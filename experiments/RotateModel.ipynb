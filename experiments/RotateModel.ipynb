{
 "cells": [
  {
   "cell_type": "code",
   "execution_count": 56,
   "id": "c4f946e8-521f-420e-bff0-6cd50ad99372",
   "metadata": {},
   "outputs": [],
   "source": [
    "import torch\n",
    "from pathlib import Path"
   ]
  },
  {
   "cell_type": "code",
   "execution_count": 57,
   "id": "2d576dbf-c6a6-4ca6-ae57-e18723267136",
   "metadata": {},
   "outputs": [],
   "source": [
    "cpt_fp = Path(\"shakespeare-char/nano-h4/ckpt.pt\")\n",
    "cpt = torch.load(cpt_fp)"
   ]
  },
  {
   "cell_type": "code",
   "execution_count": 58,
   "id": "b57a2fb8-8e61-40b1-a08e-f01e84fa19ec",
   "metadata": {},
   "outputs": [
    {
     "name": "stdout",
     "output_type": "stream",
     "text": [
      "tensor(2.0165e-06)\n"
     ]
    }
   ],
   "source": [
    "def gen_orth():\n",
    "    orth_linear = torch.nn.utils.parametrizations.orthogonal(torch.nn.Linear(32, 32))\n",
    "    return orth_linear.weight\n",
    "Q = gen_orth()\n",
    "with torch.no_grad():\n",
    "    print(torch.dist(Q.T @ Q, torch.eye(32)))"
   ]
  },
  {
   "cell_type": "code",
   "execution_count": 59,
   "id": "cb2be55e-8ec6-403d-a906-0031001738b5",
   "metadata": {},
   "outputs": [
    {
     "name": "stdout",
     "output_type": "stream",
     "text": [
      "torch.Size([384, 128])\n",
      "torch.Size([384, 128])\n",
      "torch.Size([384, 128])\n",
      "torch.Size([384, 128])\n"
     ]
    }
   ],
   "source": [
    "for l, v in cpt[\"model\"].items():\n",
    "    if not \"c_attn\" in l:\n",
    "        continue\n",
    "    heads = v.split(128 // 4, dim=0)\n",
    "    orths = {}\n",
    "    new_heads = []\n",
    "    for i, h in enumerate(heads):\n",
    "        if i >= 8:\n",
    "            new_heads.append(h)\n",
    "            continue\n",
    "        im = i % 4\n",
    "        if im in orths:\n",
    "            Q = orths[im]\n",
    "        else:\n",
    "            Q = gen_orth()\n",
    "            orths[im] = Q\n",
    "        new_heads.append(Q @ h)\n",
    "    new_matrix = torch.cat(new_heads, dim=0)\n",
    "    print(new_matrix.size())\n",
    "    cpt[\"model\"][l] = new_matrix"
   ]
  },
  {
   "cell_type": "code",
   "execution_count": 60,
   "id": "546c8fee-9319-4d65-8f3f-426183a7915f",
   "metadata": {},
   "outputs": [],
   "source": [
    "new_path = Path(\n",
    "    \"shakespeare-char-rotated\", cpt_fp.parent.name, \"ckpt.pt\"\n",
    ")\n",
    "new_path.parent.mkdir(exist_ok=True, parents=True)\n",
    "torch.save(cpt, new_path)"
   ]
  },
  {
   "cell_type": "code",
   "execution_count": 64,
   "id": "b270de23-5223-4dbf-aa9f-8c74d89cf067",
   "metadata": {},
   "outputs": [
    {
     "name": "stdout",
     "output_type": "stream",
     "text": [
      "transformer.wte.weight                            0.00\n",
      "transformer.wpe.weight                            0.00\n",
      "transformer.h.0.ln_1.weight                       0.00\n",
      "transformer.h.0.attn.c_attn.weight                2090.09\n",
      "transformer.h.0.attn.c_proj.weight                0.00\n",
      "transformer.h.0.ln_2.weight                       0.00\n",
      "transformer.h.0.mlp.c_fc.weight                   0.00\n",
      "transformer.h.0.mlp.c_proj.weight                 0.00\n",
      "transformer.h.1.ln_1.weight                       0.00\n",
      "transformer.h.1.attn.c_attn.weight                2033.05\n",
      "transformer.h.1.attn.c_proj.weight                0.00\n",
      "transformer.h.1.ln_2.weight                       0.00\n",
      "transformer.h.1.mlp.c_fc.weight                   0.00\n",
      "transformer.h.1.mlp.c_proj.weight                 0.00\n",
      "transformer.h.2.ln_1.weight                       0.00\n",
      "transformer.h.2.attn.c_attn.weight                2388.94\n",
      "transformer.h.2.attn.c_proj.weight                0.00\n",
      "transformer.h.2.ln_2.weight                       0.00\n",
      "transformer.h.2.mlp.c_fc.weight                   0.00\n",
      "transformer.h.2.mlp.c_proj.weight                 0.00\n",
      "transformer.h.3.ln_1.weight                       0.00\n",
      "transformer.h.3.attn.c_attn.weight                2234.06\n",
      "transformer.h.3.attn.c_proj.weight                0.00\n",
      "transformer.h.3.ln_2.weight                       0.00\n",
      "transformer.h.3.mlp.c_fc.weight                   0.00\n",
      "transformer.h.3.mlp.c_proj.weight                 0.00\n",
      "transformer.ln_f.weight                           0.00\n",
      "lm_head.weight                                    0.00\n"
     ]
    }
   ],
   "source": [
    "cpt1 = torch.load(cpt_fp)\n",
    "cpt2 = torch.load(new_path)\n",
    "\n",
    "for k, v in cpt1[\"model\"].items():\n",
    "    with torch.no_grad():\n",
    "        delta = torch.abs(v - cpt2[\"model\"][k]).sum()\n",
    "    print(f\"{k:<50}{delta.item():.2f}\")"
   ]
  },
  {
   "cell_type": "code",
   "execution_count": null,
   "id": "70c3ed33-02f9-4ddd-84b1-47628038b0d7",
   "metadata": {},
   "outputs": [],
   "source": []
  }
 ],
 "metadata": {
  "kernelspec": {
   "display_name": "Python 3 (ipykernel)",
   "language": "python",
   "name": "python3"
  },
  "language_info": {
   "codemirror_mode": {
    "name": "ipython",
    "version": 3
   },
   "file_extension": ".py",
   "mimetype": "text/x-python",
   "name": "python",
   "nbconvert_exporter": "python",
   "pygments_lexer": "ipython3",
   "version": "3.11.5"
  }
 },
 "nbformat": 4,
 "nbformat_minor": 5
}
